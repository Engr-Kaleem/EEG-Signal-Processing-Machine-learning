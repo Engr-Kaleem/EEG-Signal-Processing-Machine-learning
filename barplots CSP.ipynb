{
 "cells": [
  {
   "cell_type": "code",
   "execution_count": 11,
   "metadata": {},
   "outputs": [
    {
     "name": "stdout",
     "output_type": "stream",
     "text": [
      "Using matplotlib backend: Qt5Agg\n"
     ]
    }
   ],
   "source": [
    "import matplotlib.pyplot as plt\n",
    "import pandas as pd\n",
    "import seaborn as sns\n",
    "%matplotlib \n",
    "sns.set_style('darkgrid')\n",
    "\n",
    "# x = ['pre', 'post',]\n",
    "# y = [1, 5, ]\n",
    "\n",
    "# sns.barplot(x, y)\n",
    "# plt.show()"
   ]
  },
  {
   "cell_type": "code",
   "execution_count": 22,
   "metadata": {},
   "outputs": [],
   "source": [
    "df=pd.read_csv('cspplot.csv')"
   ]
  },
  {
   "cell_type": "code",
   "execution_count": 23,
   "metadata": {},
   "outputs": [
    {
     "data": {
      "text/html": [
       "<div>\n",
       "<style scoped>\n",
       "    .dataframe tbody tr th:only-of-type {\n",
       "        vertical-align: middle;\n",
       "    }\n",
       "\n",
       "    .dataframe tbody tr th {\n",
       "        vertical-align: top;\n",
       "    }\n",
       "\n",
       "    .dataframe thead th {\n",
       "        text-align: right;\n",
       "    }\n",
       "</style>\n",
       "<table border=\"1\" class=\"dataframe\">\n",
       "  <thead>\n",
       "    <tr style=\"text-align: right;\">\n",
       "      <th></th>\n",
       "      <th>subject</th>\n",
       "      <th>Cond</th>\n",
       "      <th>Accuracy</th>\n",
       "    </tr>\n",
       "  </thead>\n",
       "  <tbody>\n",
       "    <tr>\n",
       "      <td>0</td>\n",
       "      <td>s1</td>\n",
       "      <td>pre</td>\n",
       "      <td>0.825</td>\n",
       "    </tr>\n",
       "    <tr>\n",
       "      <td>1</td>\n",
       "      <td>s2</td>\n",
       "      <td>pre</td>\n",
       "      <td>0.834</td>\n",
       "    </tr>\n",
       "    <tr>\n",
       "      <td>2</td>\n",
       "      <td>s3</td>\n",
       "      <td>pre</td>\n",
       "      <td>0.892</td>\n",
       "    </tr>\n",
       "    <tr>\n",
       "      <td>3</td>\n",
       "      <td>s4</td>\n",
       "      <td>pre</td>\n",
       "      <td>0.810</td>\n",
       "    </tr>\n",
       "    <tr>\n",
       "      <td>4</td>\n",
       "      <td>s5</td>\n",
       "      <td>pre</td>\n",
       "      <td>0.861</td>\n",
       "    </tr>\n",
       "  </tbody>\n",
       "</table>\n",
       "</div>"
      ],
      "text/plain": [
       "  subject Cond  Accuracy\n",
       "0      s1  pre     0.825\n",
       "1      s2  pre     0.834\n",
       "2      s3  pre     0.892\n",
       "3      s4  pre     0.810\n",
       "4      s5  pre     0.861"
      ]
     },
     "execution_count": 23,
     "metadata": {},
     "output_type": "execute_result"
    }
   ],
   "source": [
    "df.head()"
   ]
  },
  {
   "cell_type": "code",
   "execution_count": 24,
   "metadata": {},
   "outputs": [
    {
     "name": "stdout",
     "output_type": "stream",
     "text": [
      "Using matplotlib backend: Qt5Agg\n"
     ]
    }
   ],
   "source": [
    "%matplotlib \n",
    "sns.barplot(x = \"subject\", y = \"Accuracy\", hue = \"Cond\", ci = None, data = df)\n",
    "plt.title('All subjects')\n",
    "plt.xlabel('Subjects')\n",
    "plt.ylim(0.7,1)\n",
    "plt.show()"
   ]
  },
  {
   "cell_type": "code",
   "execution_count": 25,
   "metadata": {},
   "outputs": [
    {
     "name": "stdout",
     "output_type": "stream",
     "text": [
      "[0.825 0.834 0.892 0.81  0.861 0.866 0.88  0.874 0.803 0.89 ]\n",
      "[0.901 0.883 0.88  0.883 0.893 0.855 0.943 0.83  0.882 0.961]\n",
      "['s1', 's2', 's3', 's4', 's5', 's6', 's7', 's8', 's9', 's10']\n"
     ]
    }
   ],
   "source": [
    "import numpy as np\n",
    "arr=np.array(df.iloc[0:10,2])\n",
    "arr1=np.array(df.iloc[10:20,2])\n",
    "sublist=list(df.iloc[0:10,0])\n",
    "print(arr)\n",
    "print(arr1)\n",
    "print(sublist)"
   ]
  },
  {
   "cell_type": "code",
   "execution_count": 26,
   "metadata": {},
   "outputs": [
    {
     "name": "stdout",
     "output_type": "stream",
     "text": [
      "[0.825, 0.9009999999999999]\n",
      "[0.8340000000000001, 0.883]\n",
      "[0.892, 0.88]\n",
      "[0.81, 0.883]\n",
      "[0.861, 0.893]\n",
      "[0.866, 0.855]\n",
      "[0.88, 0.943]\n",
      "[0.8740000000000001, 0.83]\n",
      "[0.8029999999999999, 0.882]\n",
      "[0.89, 0.961]\n"
     ]
    }
   ],
   "source": [
    "for i in range(10):\n",
    "    x = ['pre', 'post',]\n",
    "    y = [arr[i], arr1[i]]\n",
    "    print(y)\n",
    "    plt.figure(i)\n",
    "    sns.barplot(x, y)\n",
    "    plt.title('Pre vs Post classification accuracy')\n",
    "    plt.xlabel(sublist[i])\n",
    "    plt.ylabel('Accuracy')\n",
    "    plt.ylim(0.7,1)\n",
    "    plt.show()\n",
    "    plt.savefig('figue'+sublist[i]+'.png')\n",
    "\n"
   ]
  },
  {
   "cell_type": "code",
   "execution_count": null,
   "metadata": {},
   "outputs": [],
   "source": []
  }
 ],
 "metadata": {
  "kernelspec": {
   "display_name": "Python 3",
   "language": "python",
   "name": "python3"
  },
  "language_info": {
   "codemirror_mode": {
    "name": "ipython",
    "version": 3
   },
   "file_extension": ".py",
   "mimetype": "text/x-python",
   "name": "python",
   "nbconvert_exporter": "python",
   "pygments_lexer": "ipython3",
   "version": "3.7.4"
  }
 },
 "nbformat": 4,
 "nbformat_minor": 2
}
