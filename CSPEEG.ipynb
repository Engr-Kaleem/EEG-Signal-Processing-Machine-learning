{
 "cells": [
  {
   "cell_type": "code",
   "execution_count": 5,
   "metadata": {},
   "outputs": [],
   "source": [
    "import mne\n",
    "import numpy as np\n",
    "import matplotlib as mp\n",
    "import pandas as pd\n",
    "from mne.channels import read_layout\n",
    "from mne.preprocessing import ICA\n",
    "import matplotlib.pyplot as plt\n",
    "\n",
    "\n",
    "\n",
    "\n",
    "from sklearn.pipeline import Pipeline\n",
    "from sklearn.discriminant_analysis import LinearDiscriminantAnalysis\n",
    "from sklearn.model_selection import ShuffleSplit, cross_val_score\n",
    "\n",
    "from mne import Epochs, pick_types, events_from_annotations\n",
    "from mne.channels import make_standard_montage\n",
    "from mne.io import concatenate_raws\n",
    "from mne.decoding import CSP"
   ]
  },
  {
   "cell_type": "code",
   "execution_count": 6,
   "metadata": {},
   "outputs": [
    {
     "name": "stdout",
     "output_type": "stream",
     "text": [
      "(10, 14, 18000)\n"
     ]
    }
   ],
   "source": [
    "data=np.load('dataarray.npy')\n",
    "cols=['FCz', 'FC2', 'FC4', 'FC6', 'Cz', 'C2', 'C4', 'C6', 'Cpz', 'Cp2', 'Cp4', 'Cp6','pz','stim']\n",
    "#df=pd.DataFrame(data=data.T,,columns=cols)\n",
    "print(data.shape)\n",
    "datastack=np.reshape(data,(10*14,18000))"
   ]
  },
  {
   "cell_type": "code",
   "execution_count": 14,
   "metadata": {},
   "outputs": [
    {
     "name": "stdout",
     "output_type": "stream",
     "text": [
      "Creating RawArray with float64 data, n_channels=14, n_times=18000\n",
      "    Range : 0 ... 17999 =      0.000 ...   140.617 secs\n",
      "Ready.\n",
      "Creating RawArray with float64 data, n_channels=14, n_times=18000\n",
      "    Range : 0 ... 17999 =      0.000 ...   140.617 secs\n",
      "Ready.\n",
      "Creating RawArray with float64 data, n_channels=14, n_times=18000\n",
      "    Range : 0 ... 17999 =      0.000 ...   140.617 secs\n",
      "Ready.\n",
      "Creating RawArray with float64 data, n_channels=14, n_times=18000\n",
      "    Range : 0 ... 17999 =      0.000 ...   140.617 secs\n",
      "Ready.\n",
      "Creating RawArray with float64 data, n_channels=14, n_times=18000\n",
      "    Range : 0 ... 17999 =      0.000 ...   140.617 secs\n",
      "Ready.\n",
      "Creating RawArray with float64 data, n_channels=14, n_times=18000\n",
      "    Range : 0 ... 17999 =      0.000 ...   140.617 secs\n",
      "Ready.\n",
      "Creating RawArray with float64 data, n_channels=14, n_times=18000\n",
      "    Range : 0 ... 17999 =      0.000 ...   140.617 secs\n",
      "Ready.\n",
      "Creating RawArray with float64 data, n_channels=14, n_times=18000\n",
      "    Range : 0 ... 17999 =      0.000 ...   140.617 secs\n",
      "Ready.\n",
      "Creating RawArray with float64 data, n_channels=14, n_times=18000\n",
      "    Range : 0 ... 17999 =      0.000 ...   140.617 secs\n",
      "Ready.\n",
      "Creating RawArray with float64 data, n_channels=14, n_times=18000\n",
      "    Range : 0 ... 17999 =      0.000 ...   140.617 secs\n",
      "Ready.\n",
      "Creating RawArray with float64 data, n_channels=14, n_times=18000\n",
      "    Range : 0 ... 17999 =      0.000 ...   140.617 secs\n",
      "Ready.\n"
     ]
    },
    {
     "data": {
      "text/plain": [
       "<RawArray | 14 x 180000 (1406.2 s), ~19.3 MB, data loaded>"
      ]
     },
     "execution_count": 14,
     "metadata": {},
     "output_type": "execute_result"
    }
   ],
   "source": [
    "[ntrail,nchann,nsamp]=data.shape\n",
    "sampling_freq = 128  # in Hertz\n",
    "ch_names = ['FCz', 'FC2', 'FC4', 'FC6', 'Cz', 'C2', 'C4', 'C6', 'CPz', 'CP2', 'CP4', 'CP6','A2','STI 001']\n",
    "ch_types = ['eeg', 'eeg', 'eeg', 'eeg', 'eeg', 'eeg', 'eeg', 'eeg', 'eeg', 'eeg', 'eeg', 'eeg','eeg','stim']\n",
    "\n",
    "info = mne.create_info(ch_names=ch_names, sfreq=sampling_freq, ch_types=ch_types)\n",
    "raw= mne.io.RawArray(data[1,:,:], info)\n",
    "raw = concatenate_raws([mne.io.RawArray(data[f,:,:], info) for f in range(0,ntrail)])\n",
    "#montage = make_standard_montage('standard_1020')\n",
    "raw.set_montage('standard_1020')\n"
   ]
  },
  {
   "cell_type": "code",
   "execution_count": 17,
   "metadata": {},
   "outputs": [
    {
     "name": "stdout",
     "output_type": "stream",
     "text": [
      "284 events found\n",
      "Event IDs: [1 2 3]\n",
      "Filtering raw data in 10 contiguous segments\n",
      "Setting up band-pass filter from 7 - 30 Hz\n",
      "\n",
      "FIR filter parameters\n",
      "---------------------\n",
      "Designing a one-pass, zero-phase, non-causal bandpass filter:\n",
      "- Windowed time-domain design (firwin) method\n",
      "- Hamming window with 0.0194 passband ripple and 53 dB stopband attenuation\n",
      "- Lower passband edge: 7.00\n",
      "- Lower transition bandwidth: 2.00 Hz (-6 dB cutoff frequency: 6.00 Hz)\n",
      "- Upper passband edge: 30.00 Hz\n",
      "- Upper transition bandwidth: 7.50 Hz (-6 dB cutoff frequency: 33.75 Hz)\n",
      "- Filter length: 213 samples (1.664 sec)\n",
      "\n",
      "Not setting metadata\n",
      "Not setting metadata\n",
      "95 matching events found\n",
      "No baseline correction applied\n",
      "0 projection items activated\n",
      "Loading data for 95 events and 897 original time points ...\n",
      "2 bad epochs dropped\n",
      "[0 0 0 0 0 0 0 0 0 0 0 0 0 0 0 0 0 0 0 0 0 0 0 0 0 0 0 0 0 0 0 0 0 0 0 0 0\n",
      " 0 0 0 0 0 0 0 0 0 0 0 0 0 0 0 0 0 0 0 0 0 0 0 0 0 0 0 0 0 0 0 0 0 0 0 0 0\n",
      " 0 0 0 0 0 0 0 0 0 0 0 0 0 0 0 0 0 0 0]\n"
     ]
    }
   ],
   "source": [
    "events = mne.find_events(raw, 'STI 001')\n",
    "picks = pick_types(raw.info, meg=False, eeg=True, stim=False, eog=False,\n",
    "                   exclude='bads')\n",
    "tmin, tmax = -3, 4  # define epochs around events (in s)\n",
    "event_ids = dict(MI=2)  # map event IDs to tasks\n",
    "\n",
    "raw.filter(7., 30., fir_design='firwin', skip_by_annotation='edge')\n",
    "epochs = Epochs(raw, events, event_ids, tmin, tmax, proj=True, picks=picks,\n",
    "                baseline=None, preload=True)\n",
    "epochs_train = epochs.copy().crop(tmin=1., tmax=2.)\n",
    "labels = epochs.events[:, -1] - 2\n",
    "print(labels)"
   ]
  },
  {
   "cell_type": "code",
   "execution_count": null,
   "metadata": {},
   "outputs": [],
   "source": []
  }
 ],
 "metadata": {
  "kernelspec": {
   "display_name": "Python 3",
   "language": "python",
   "name": "python3"
  },
  "language_info": {
   "codemirror_mode": {
    "name": "ipython",
    "version": 3
   },
   "file_extension": ".py",
   "mimetype": "text/x-python",
   "name": "python",
   "nbconvert_exporter": "python",
   "pygments_lexer": "ipython3",
   "version": "3.7.4"
  }
 },
 "nbformat": 4,
 "nbformat_minor": 2
}
