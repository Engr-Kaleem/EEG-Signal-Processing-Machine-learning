{
 "cells": [
  {
   "cell_type": "code",
   "execution_count": null,
   "metadata": {},
   "outputs": [],
   "source": []
  },
  {
   "cell_type": "code",
   "execution_count": 80,
   "metadata": {},
   "outputs": [],
   "source": [
    "import mne\n",
    "import numpy as np\n",
    "import matplotlib as mp\n",
    "import pandas as pd\n",
    "from mne import Epochs, pick_types, events_from_annotations\n",
    "from mne.channels import read_layout\n",
    "from mne.preprocessing import ICA\n",
    "import matplotlib.pyplot as plt\n",
    "from mne.time_frequency import tfr_multitaper\n",
    "from mne.stats import permutation_cluster_1samp_test as pcluster_test\n",
    "from mne.viz.utils import center_cmap\n",
    "from mne.io import concatenate_raws\n",
    "\n",
    "import os\n",
    "import glob"
   ]
  },
  {
   "cell_type": "code",
   "execution_count": 81,
   "metadata": {},
   "outputs": [
    {
     "name": "stdout",
     "output_type": "stream",
     "text": [
      "S05/day2 neurofeedback01 anodal_S05_day2_nf01_EEGraw_and_condition.txt\n",
      "(14, 18000)\n",
      "S05/day2 neurofeedback02 anodal_S05_day2_nf02_EEGraw_and_condition.txt\n",
      "(14, 19024)\n",
      "S05/day2 neurofeedback03 anodal_S05_day2_nf03_EEGraw_and_condition.txt\n",
      "(14, 19520)\n",
      "S05/day2 neurofeedback04 anodal_S05_day2_nf04_EEGraw_and_condition.txt\n",
      "(14, 19696)\n",
      "S05/day2 neurofeedback05 anodal_S05_day2_nf05_EEGraw_and_condition.txt\n",
      "(14, 17280)\n",
      "S05/day2 neurofeedback11 anodal_S05_day2_nf11_EEGraw_and_condition.txt\n",
      "(14, 18272)\n",
      "S05/day2 neurofeedback12 anodal_S05_day2_nf12_EEGraw_and_condition.txt\n",
      "(14, 19744)\n",
      "S05/day2 neurofeedback13 anodal_S05_day2_nf13_EEGraw_and_condition.txt\n",
      "(14, 19344)\n",
      "S05/day2 neurofeedback14 anodal_S05_day2_nf14_EEGraw_and_condition.txt\n",
      "(14, 19680)\n",
      "S05/day2 neurofeedback15 anodal_S05_day2_nf15_EEGraw_and_condition.txt\n",
      "(14, 18880)\n"
     ]
    },
    {
     "data": {
      "text/plain": [
       "(10, 14, 15000)"
      ]
     },
     "execution_count": 81,
     "metadata": {},
     "output_type": "execute_result"
    }
   ],
   "source": [
    "frame=pd.DataFrame()\n",
    "dataarray=np.zeros([10,14,15000])# i changed this value from 15000\n",
    "df=pd.DataFrame()\n",
    "basepath='S05/day2'\n",
    "iter=0\n",
    "for trail in os.listdir(os.path.join(basepath)):\n",
    "    for file in  os.listdir(os.path.join(basepath,trail)):\n",
    "        if(trail[:-2]=='neurofeedback' and (int(trail[-2:])<=5 or int(trail[-2:])>=11)):\n",
    "            df=pd.read_csv(os.path.join(basepath,trail,file),sep='\\t',header=None)\n",
    "            df=df.T\n",
    "            print(basepath,trail,file)\n",
    "            print(df.shape)\n",
    "            data=df.values;\n",
    "            dataarray[iter,:,:]=data[:,0:15000] #  i changed this value 15000\n",
    "            iter+=1\n",
    "dataarray.shape"
   ]
  },
  {
   "cell_type": "code",
   "execution_count": 3,
   "metadata": {},
   "outputs": [],
   "source": [
    "# data=np.load('./anodal/S03day1.npy')\n",
    "# cols=['Fcz', 'Fc2', 'Fc4', 'Fc6', 'Cz', 'C2', 'C4', 'C6', 'Cpz', 'Cp2', 'Cp4', 'Cp6','pz','stim']\n",
    "# #df=pd.DataFrame(data=data.T,,columns=cols)\n",
    "# print(data.shape)\n",
    "# datastack=np.reshape(data,(10*14,18000))\n",
    "# #data=np.delete(data,[7],0)\n",
    "# #df=pd.DataFrame(data=datastack)\n",
    "#df.head(14)"
   ]
  },
  {
   "cell_type": "code",
   "execution_count": 82,
   "metadata": {},
   "outputs": [
    {
     "name": "stdout",
     "output_type": "stream",
     "text": [
      "Using matplotlib backend: Qt5Agg\n",
      "Creating RawArray with float64 data, n_channels=14, n_times=15000\n",
      "    Range : 0 ... 14999 =      0.000 ...   117.180 secs\n",
      "Ready.\n",
      "Filtering raw data in 1 contiguous segment\n",
      "Setting up band-pass filter from 3 - 40 Hz\n",
      "\n",
      "FIR filter parameters\n",
      "---------------------\n",
      "Designing a one-pass, zero-phase, non-causal bandpass filter:\n",
      "- Windowed time-domain design (firwin) method\n",
      "- Hamming window with 0.0194 passband ripple and 53 dB stopband attenuation\n",
      "- Lower passband edge: 3.00\n",
      "- Lower transition bandwidth: 2.00 Hz (-6 dB cutoff frequency: 2.00 Hz)\n",
      "- Upper passband edge: 40.00 Hz\n",
      "- Upper transition bandwidth: 10.00 Hz (-6 dB cutoff frequency: 45.00 Hz)\n",
      "- Filter length: 213 samples (1.664 sec)\n",
      "\n",
      "23 events found\n",
      "Event IDs: [1 2 3]\n",
      "[[  256     0     1]\n",
      " [  384     1     2]\n",
      " [ 1392     2     3]\n",
      " [ 2288     0     1]\n",
      " [ 2416     1     2]\n",
      " [ 2848     2     3]\n",
      " [ 3744     0     1]\n",
      " [ 3872     1     2]\n",
      " [ 4880     2     3]\n",
      " [ 5776     0     1]\n",
      " [ 5904     1     2]\n",
      " [ 6912     2     3]\n",
      " [ 7808     0     1]\n",
      " [ 7936     1     2]\n",
      " [ 8944     2     3]\n",
      " [ 9840     0     1]\n",
      " [ 9968     1     2]\n",
      " [10976     2     3]\n",
      " [11872     0     1]\n",
      " [12000     1     2]\n",
      " [13008     2     3]\n",
      " [13904     0     1]\n",
      " [14032     1     2]]\n"
     ]
    }
   ],
   "source": [
    "%matplotlib\n",
    "dataarray[:,:13,:]=dataarray[:,:13,:]/1000000\n",
    "data=dataarray\n",
    "[ntrail,nchann,nsamp]=data.shape\n",
    "\n",
    "\n",
    "sampling_freq = 128  # in Hertz\n",
    "ch_names =['F4', 'F8', 'C4', 'T4', 'Cz', 'C2', 'T6', 'C6', 'CPz', 'CP2', 'CP4', 'CP6','A1','STI 001']\n",
    "#ch_names = ['FCz', 'FC2', 'FC4', 'FC6', 'Cz', 'C2', 'C4', 'C6', 'CPz', 'CP2', 'CP4', 'CP6','A1','STI 001']\n",
    "ch_types = ['eeg', 'eeg', 'eeg', 'eeg', 'eeg', 'eeg', 'eeg', 'eeg', 'eeg', 'eeg', 'eeg', 'eeg','eeg','stim']\n",
    "\n",
    "info = mne.create_info(ch_names=ch_names, sfreq=sampling_freq, ch_types=ch_types)\n",
    "\n",
    "raw= mne.io.RawArray(data[6,:,:], info)#**change this value one by one, Save Figure 3 ONLY for Pre MI 0 to 4, for Post MI,5 t0 9\n",
    "raw.filter(l_freq=3, h_freq=40) #filter the fraw data from 8 to 22 hertz\n",
    "raw.set_montage('standard_1020')\n",
    "raw.plot();\n",
    "#raw = concatenate_raws([mne.io.RawArray(data[f,:,:], info) for f in range(0,ntrail)])\n",
    "#    raw=mne.io.concatenate_raws([raw, mne.io.RawArray(data[1,:,:], info)])\n",
    "\n",
    "# ica = mne.preprocessing.ICA(n_components=13, random_state=97, max_iter=800)\n",
    "# ica.fit(raw)\n",
    "# ica.plot_sources(raw, show_scrollbars=True);\n",
    "# ica.plot_components(title='compnents',cmap='jet')\n",
    "\n",
    "# ica.plot_properties(raw, picks=[0,1,2,3,4,5,6,7,8, 9,10,11])\n",
    "\n",
    "# print(raw.info)\n",
    "# #raw.filter(l_freq=12, h_freq=22)\n",
    "# # raw.set\n",
    "                             \n",
    "events = mne.find_events(raw, 'STI 001')\n",
    "print(events)\n"
   ]
  },
  {
   "cell_type": "code",
   "execution_count": 83,
   "metadata": {},
   "outputs": [
    {
     "name": "stdout",
     "output_type": "stream",
     "text": [
      "Not setting metadata\n",
      "Not setting metadata\n",
      "23 matching events found\n",
      "No baseline correction applied\n",
      "0 projection items activated\n",
      "Loading data for 23 events and 1537 original time points ...\n",
      "3 bad epochs dropped\n",
      "Not setting metadata\n",
      "Applying baseline correction (mode: percent)\n",
      "Using a threshold of 1.943180\n",
      "stat_fun(H1): min=-74.476079 max=7.283782\n",
      "Running initial clustering\n",
      "Found 10 clusters\n",
      "Permuting 99 times...\n"
     ]
    },
    {
     "data": {
      "application/vnd.jupyter.widget-view+json": {
       "model_id": "85a7cb8a624e4943ab106a032f60f28e",
       "version_major": 2,
       "version_minor": 0
      },
      "text/plain": [
       "HBox(children=(IntProgress(value=0, max=99), HTML(value='')))"
      ]
     },
     "metadata": {},
     "output_type": "display_data"
    },
    {
     "name": "stdout",
     "output_type": "stream",
     "text": [
      "\n",
      "Computing cluster p-values\n",
      "Step-down-in-jumps iteration #1 found 0 clusters to exclude from subsequent iterations\n",
      "Done.\n",
      "Using a threshold of -1.943180\n",
      "stat_fun(H1): min=-74.476079 max=7.283782\n",
      "Running initial clustering\n",
      "Found 45 clusters\n",
      "Permuting 99 times...\n"
     ]
    },
    {
     "data": {
      "application/vnd.jupyter.widget-view+json": {
       "model_id": "27bfc0cb67314eeda3863fb8537b9e40",
       "version_major": 2,
       "version_minor": 0
      },
      "text/plain": [
       "HBox(children=(IntProgress(value=0, max=99), HTML(value='')))"
      ]
     },
     "metadata": {},
     "output_type": "display_data"
    },
    {
     "name": "stdout",
     "output_type": "stream",
     "text": [
      "\n",
      "Computing cluster p-values\n",
      "Step-down-in-jumps iteration #1 found 1 cluster to exclude from subsequent iterations\n",
      "Permuting 99 times...\n"
     ]
    },
    {
     "data": {
      "application/vnd.jupyter.widget-view+json": {
       "model_id": "ba1ec5f54fa64a7789bbeeb93410cf42",
       "version_major": 2,
       "version_minor": 0
      },
      "text/plain": [
       "HBox(children=(IntProgress(value=0, max=99), HTML(value='')))"
      ]
     },
     "metadata": {},
     "output_type": "display_data"
    },
    {
     "name": "stdout",
     "output_type": "stream",
     "text": [
      "\n",
      "Computing cluster p-values\n",
      "Step-down-in-jumps iteration #2 found 0 additional clusters to exclude from subsequent iterations\n",
      "Done.\n",
      "No baseline correction applied\n",
      "Using a threshold of 1.943180\n",
      "stat_fun(H1): min=-74.227490 max=5.134566\n",
      "Running initial clustering\n",
      "Found 13 clusters\n",
      "Permuting 99 times...\n"
     ]
    },
    {
     "data": {
      "application/vnd.jupyter.widget-view+json": {
       "model_id": "aa9458ebd5b847f59a10f5fe720eafa4",
       "version_major": 2,
       "version_minor": 0
      },
      "text/plain": [
       "HBox(children=(IntProgress(value=0, max=99), HTML(value='')))"
      ]
     },
     "metadata": {},
     "output_type": "display_data"
    },
    {
     "name": "stdout",
     "output_type": "stream",
     "text": [
      "\n",
      "Computing cluster p-values\n",
      "Step-down-in-jumps iteration #1 found 0 clusters to exclude from subsequent iterations\n",
      "Done.\n",
      "Using a threshold of -1.943180\n",
      "stat_fun(H1): min=-74.227490 max=5.134566\n",
      "Running initial clustering\n",
      "Found 44 clusters\n",
      "Permuting 99 times...\n"
     ]
    },
    {
     "data": {
      "application/vnd.jupyter.widget-view+json": {
       "model_id": "70ef04f74ecb4f01bd4a074cdcf58f40",
       "version_major": 2,
       "version_minor": 0
      },
      "text/plain": [
       "HBox(children=(IntProgress(value=0, max=99), HTML(value='')))"
      ]
     },
     "metadata": {},
     "output_type": "display_data"
    },
    {
     "name": "stdout",
     "output_type": "stream",
     "text": [
      "\n",
      "Computing cluster p-values\n",
      "Step-down-in-jumps iteration #1 found 1 cluster to exclude from subsequent iterations\n",
      "Permuting 99 times...\n"
     ]
    },
    {
     "data": {
      "application/vnd.jupyter.widget-view+json": {
       "model_id": "18b95ed0171a4974b765f02a53b16cbc",
       "version_major": 2,
       "version_minor": 0
      },
      "text/plain": [
       "HBox(children=(IntProgress(value=0, max=99), HTML(value='')))"
      ]
     },
     "metadata": {},
     "output_type": "display_data"
    },
    {
     "name": "stdout",
     "output_type": "stream",
     "text": [
      "\n",
      "Computing cluster p-values\n",
      "Step-down-in-jumps iteration #2 found 0 additional clusters to exclude from subsequent iterations\n",
      "Done.\n",
      "No baseline correction applied\n",
      "Using a threshold of 1.943180\n",
      "stat_fun(H1): min=-36.418106 max=5.563211\n",
      "Running initial clustering\n",
      "Found 11 clusters\n",
      "Permuting 99 times...\n"
     ]
    },
    {
     "data": {
      "application/vnd.jupyter.widget-view+json": {
       "model_id": "bc0cf84c5ee447a396414c21cd4c798b",
       "version_major": 2,
       "version_minor": 0
      },
      "text/plain": [
       "HBox(children=(IntProgress(value=0, max=99), HTML(value='')))"
      ]
     },
     "metadata": {},
     "output_type": "display_data"
    },
    {
     "name": "stdout",
     "output_type": "stream",
     "text": [
      "\n",
      "Computing cluster p-values\n",
      "Step-down-in-jumps iteration #1 found 0 clusters to exclude from subsequent iterations\n",
      "Done.\n",
      "Using a threshold of -1.943180\n",
      "stat_fun(H1): min=-36.418106 max=5.563211\n",
      "Running initial clustering\n",
      "Found 58 clusters\n",
      "Permuting 99 times...\n"
     ]
    },
    {
     "data": {
      "application/vnd.jupyter.widget-view+json": {
       "model_id": "3ff335843a744dde995413b8eb867dad",
       "version_major": 2,
       "version_minor": 0
      },
      "text/plain": [
       "HBox(children=(IntProgress(value=0, max=99), HTML(value='')))"
      ]
     },
     "metadata": {},
     "output_type": "display_data"
    },
    {
     "name": "stdout",
     "output_type": "stream",
     "text": [
      "\n",
      "Computing cluster p-values\n",
      "Step-down-in-jumps iteration #1 found 1 cluster to exclude from subsequent iterations\n",
      "Permuting 99 times...\n"
     ]
    },
    {
     "data": {
      "application/vnd.jupyter.widget-view+json": {
       "model_id": "872d31905417447d9c3f401101864fff",
       "version_major": 2,
       "version_minor": 0
      },
      "text/plain": [
       "HBox(children=(IntProgress(value=0, max=99), HTML(value='')))"
      ]
     },
     "metadata": {},
     "output_type": "display_data"
    },
    {
     "name": "stdout",
     "output_type": "stream",
     "text": [
      "\n",
      "Computing cluster p-values\n",
      "Step-down-in-jumps iteration #2 found 0 additional clusters to exclude from subsequent iterations\n",
      "Done.\n",
      "No baseline correction applied\n",
      "Using a threshold of 1.943180\n",
      "stat_fun(H1): min=-33.231404 max=6.614773\n",
      "Running initial clustering\n",
      "Found 11 clusters\n",
      "Permuting 99 times...\n"
     ]
    },
    {
     "data": {
      "application/vnd.jupyter.widget-view+json": {
       "model_id": "a9324c3bb3374049b870b2891f44feff",
       "version_major": 2,
       "version_minor": 0
      },
      "text/plain": [
       "HBox(children=(IntProgress(value=0, max=99), HTML(value='')))"
      ]
     },
     "metadata": {},
     "output_type": "display_data"
    },
    {
     "name": "stdout",
     "output_type": "stream",
     "text": [
      "\n",
      "Computing cluster p-values\n",
      "Step-down-in-jumps iteration #1 found 0 clusters to exclude from subsequent iterations\n",
      "Done.\n",
      "Using a threshold of -1.943180\n",
      "stat_fun(H1): min=-33.231404 max=6.614773\n",
      "Running initial clustering\n",
      "Found 66 clusters\n",
      "Permuting 99 times...\n"
     ]
    },
    {
     "data": {
      "application/vnd.jupyter.widget-view+json": {
       "model_id": "d3b5078df6474a549263f0eb7e26143a",
       "version_major": 2,
       "version_minor": 0
      },
      "text/plain": [
       "HBox(children=(IntProgress(value=0, max=99), HTML(value='')))"
      ]
     },
     "metadata": {},
     "output_type": "display_data"
    },
    {
     "name": "stdout",
     "output_type": "stream",
     "text": [
      "\n",
      "Computing cluster p-values\n",
      "Step-down-in-jumps iteration #1 found 1 cluster to exclude from subsequent iterations\n",
      "Permuting 99 times...\n"
     ]
    },
    {
     "data": {
      "application/vnd.jupyter.widget-view+json": {
       "model_id": "bfb8973061b2412396f666af45bb2d79",
       "version_major": 2,
       "version_minor": 0
      },
      "text/plain": [
       "HBox(children=(IntProgress(value=0, max=99), HTML(value='')))"
      ]
     },
     "metadata": {},
     "output_type": "display_data"
    },
    {
     "name": "stdout",
     "output_type": "stream",
     "text": [
      "\n",
      "Computing cluster p-values\n",
      "Step-down-in-jumps iteration #2 found 0 additional clusters to exclude from subsequent iterations\n",
      "Done.\n",
      "No baseline correction applied\n",
      "Using a threshold of 2.015048\n",
      "stat_fun(H1): min=-73.743656 max=4.724289\n",
      "Running initial clustering\n",
      "Found 13 clusters\n",
      "Permuting 63 times (exact test)...\n"
     ]
    },
    {
     "data": {
      "application/vnd.jupyter.widget-view+json": {
       "model_id": "dfd542df909b4d909d22eb4b6ee589f6",
       "version_major": 2,
       "version_minor": 0
      },
      "text/plain": [
       "HBox(children=(IntProgress(value=0, max=63), HTML(value='')))"
      ]
     },
     "metadata": {},
     "output_type": "display_data"
    },
    {
     "name": "stdout",
     "output_type": "stream",
     "text": [
      "\n",
      "Computing cluster p-values\n",
      "Step-down-in-jumps iteration #1 found 0 clusters to exclude from subsequent iterations\n",
      "Done.\n",
      "Using a threshold of -2.015048\n",
      "stat_fun(H1): min=-73.743656 max=4.724289\n",
      "Running initial clustering\n",
      "Found 47 clusters\n",
      "Permuting 63 times (exact test)...\n"
     ]
    },
    {
     "data": {
      "application/vnd.jupyter.widget-view+json": {
       "model_id": "1e9ce6f3e0c747c7beb112f7035190dd",
       "version_major": 2,
       "version_minor": 0
      },
      "text/plain": [
       "HBox(children=(IntProgress(value=0, max=63), HTML(value='')))"
      ]
     },
     "metadata": {},
     "output_type": "display_data"
    },
    {
     "name": "stdout",
     "output_type": "stream",
     "text": [
      "\n",
      "Computing cluster p-values\n",
      "Step-down-in-jumps iteration #1 found 1 cluster to exclude from subsequent iterations\n",
      "Permuting 63 times (exact test)...\n"
     ]
    },
    {
     "data": {
      "application/vnd.jupyter.widget-view+json": {
       "model_id": "92b93e528e3246b0916dfdfbbe90ae12",
       "version_major": 2,
       "version_minor": 0
      },
      "text/plain": [
       "HBox(children=(IntProgress(value=0, max=63), HTML(value='')))"
      ]
     },
     "metadata": {},
     "output_type": "display_data"
    },
    {
     "name": "stdout",
     "output_type": "stream",
     "text": [
      "\n",
      "Computing cluster p-values\n",
      "Step-down-in-jumps iteration #2 found 0 additional clusters to exclude from subsequent iterations\n",
      "Done.\n",
      "No baseline correction applied\n",
      "Using a threshold of 2.015048\n",
      "stat_fun(H1): min=-67.402838 max=4.383303\n",
      "Running initial clustering\n",
      "Found 11 clusters\n",
      "Permuting 63 times (exact test)...\n"
     ]
    },
    {
     "data": {
      "application/vnd.jupyter.widget-view+json": {
       "model_id": "f7a0eb55ccbf46938b62cd25be07e9a3",
       "version_major": 2,
       "version_minor": 0
      },
      "text/plain": [
       "HBox(children=(IntProgress(value=0, max=63), HTML(value='')))"
      ]
     },
     "metadata": {},
     "output_type": "display_data"
    },
    {
     "name": "stdout",
     "output_type": "stream",
     "text": [
      "\n",
      "Computing cluster p-values\n",
      "Step-down-in-jumps iteration #1 found 0 clusters to exclude from subsequent iterations\n",
      "Done.\n",
      "Using a threshold of -2.015048\n",
      "stat_fun(H1): min=-67.402838 max=4.383303\n",
      "Running initial clustering\n",
      "Found 43 clusters\n",
      "Permuting 63 times (exact test)...\n"
     ]
    },
    {
     "data": {
      "application/vnd.jupyter.widget-view+json": {
       "model_id": "e960b96e667d42b2bdc793d3d2e0917f",
       "version_major": 2,
       "version_minor": 0
      },
      "text/plain": [
       "HBox(children=(IntProgress(value=0, max=63), HTML(value='')))"
      ]
     },
     "metadata": {},
     "output_type": "display_data"
    },
    {
     "name": "stdout",
     "output_type": "stream",
     "text": [
      "\n",
      "Computing cluster p-values\n",
      "Step-down-in-jumps iteration #1 found 1 cluster to exclude from subsequent iterations\n",
      "Permuting 63 times (exact test)...\n"
     ]
    },
    {
     "data": {
      "application/vnd.jupyter.widget-view+json": {
       "model_id": "985898215a984421845cd11e2bfb4067",
       "version_major": 2,
       "version_minor": 0
      },
      "text/plain": [
       "HBox(children=(IntProgress(value=0, max=63), HTML(value='')))"
      ]
     },
     "metadata": {},
     "output_type": "display_data"
    },
    {
     "name": "stdout",
     "output_type": "stream",
     "text": [
      "\n",
      "Computing cluster p-values\n",
      "Step-down-in-jumps iteration #2 found 0 additional clusters to exclude from subsequent iterations\n",
      "Done.\n",
      "No baseline correction applied\n",
      "Using a threshold of 2.015048\n",
      "stat_fun(H1): min=-41.423029 max=5.775020\n",
      "Running initial clustering\n",
      "Found 13 clusters\n",
      "Permuting 63 times (exact test)...\n"
     ]
    },
    {
     "data": {
      "application/vnd.jupyter.widget-view+json": {
       "model_id": "727a60383bbd4b9d99a36a232039f579",
       "version_major": 2,
       "version_minor": 0
      },
      "text/plain": [
       "HBox(children=(IntProgress(value=0, max=63), HTML(value='')))"
      ]
     },
     "metadata": {},
     "output_type": "display_data"
    },
    {
     "name": "stdout",
     "output_type": "stream",
     "text": [
      "\n",
      "Computing cluster p-values\n",
      "Step-down-in-jumps iteration #1 found 0 clusters to exclude from subsequent iterations\n",
      "Done.\n",
      "Using a threshold of -2.015048\n",
      "stat_fun(H1): min=-41.423029 max=5.775020\n",
      "Running initial clustering\n",
      "Found 55 clusters\n",
      "Permuting 63 times (exact test)...\n"
     ]
    },
    {
     "data": {
      "application/vnd.jupyter.widget-view+json": {
       "model_id": "41a9e752b1d344fab818dd87731a1a77",
       "version_major": 2,
       "version_minor": 0
      },
      "text/plain": [
       "HBox(children=(IntProgress(value=0, max=63), HTML(value='')))"
      ]
     },
     "metadata": {},
     "output_type": "display_data"
    },
    {
     "name": "stdout",
     "output_type": "stream",
     "text": [
      "\n",
      "Computing cluster p-values\n",
      "Step-down-in-jumps iteration #1 found 1 cluster to exclude from subsequent iterations\n",
      "Permuting 63 times (exact test)...\n"
     ]
    },
    {
     "data": {
      "application/vnd.jupyter.widget-view+json": {
       "model_id": "82309489c8ca452bb3b6cc1071855e5f",
       "version_major": 2,
       "version_minor": 0
      },
      "text/plain": [
       "HBox(children=(IntProgress(value=0, max=63), HTML(value='')))"
      ]
     },
     "metadata": {},
     "output_type": "display_data"
    },
    {
     "name": "stdout",
     "output_type": "stream",
     "text": [
      "\n",
      "Computing cluster p-values\n",
      "Step-down-in-jumps iteration #2 found 1 additional cluster to exclude from subsequent iterations\n",
      "Permuting 63 times (exact test)...\n"
     ]
    },
    {
     "data": {
      "application/vnd.jupyter.widget-view+json": {
       "model_id": "b85f16da19cd437e8066fa33a003c46c",
       "version_major": 2,
       "version_minor": 0
      },
      "text/plain": [
       "HBox(children=(IntProgress(value=0, max=63), HTML(value='')))"
      ]
     },
     "metadata": {},
     "output_type": "display_data"
    },
    {
     "name": "stdout",
     "output_type": "stream",
     "text": [
      "\n",
      "Computing cluster p-values\n",
      "Step-down-in-jumps iteration #3 found 0 additional clusters to exclude from subsequent iterations\n",
      "Done.\n",
      "No baseline correction applied\n",
      "Using a threshold of 2.015048\n",
      "stat_fun(H1): min=-33.522556 max=4.288388\n",
      "Running initial clustering\n",
      "Found 5 clusters\n",
      "Permuting 63 times (exact test)...\n"
     ]
    },
    {
     "data": {
      "application/vnd.jupyter.widget-view+json": {
       "model_id": "4af5c80a23b645ec958c7cd8ec8f7074",
       "version_major": 2,
       "version_minor": 0
      },
      "text/plain": [
       "HBox(children=(IntProgress(value=0, max=63), HTML(value='')))"
      ]
     },
     "metadata": {},
     "output_type": "display_data"
    },
    {
     "name": "stdout",
     "output_type": "stream",
     "text": [
      "\n",
      "Computing cluster p-values\n",
      "Step-down-in-jumps iteration #1 found 0 clusters to exclude from subsequent iterations\n",
      "Done.\n",
      "Using a threshold of -2.015048\n",
      "stat_fun(H1): min=-33.522556 max=4.288388\n",
      "Running initial clustering\n",
      "Found 50 clusters\n",
      "Permuting 63 times (exact test)...\n"
     ]
    },
    {
     "data": {
      "application/vnd.jupyter.widget-view+json": {
       "model_id": "71d4ec4cef4a4f04b31fe6351c9ddef1",
       "version_major": 2,
       "version_minor": 0
      },
      "text/plain": [
       "HBox(children=(IntProgress(value=0, max=63), HTML(value='')))"
      ]
     },
     "metadata": {},
     "output_type": "display_data"
    },
    {
     "name": "stdout",
     "output_type": "stream",
     "text": [
      "\n",
      "Computing cluster p-values\n",
      "Step-down-in-jumps iteration #1 found 1 cluster to exclude from subsequent iterations\n",
      "Permuting 63 times (exact test)...\n"
     ]
    },
    {
     "data": {
      "application/vnd.jupyter.widget-view+json": {
       "model_id": "0366795422ca4794b9a6e3a4ad6243e7",
       "version_major": 2,
       "version_minor": 0
      },
      "text/plain": [
       "HBox(children=(IntProgress(value=0, max=63), HTML(value='')))"
      ]
     },
     "metadata": {},
     "output_type": "display_data"
    },
    {
     "name": "stdout",
     "output_type": "stream",
     "text": [
      "\n",
      "Computing cluster p-values\n",
      "Step-down-in-jumps iteration #2 found 0 additional clusters to exclude from subsequent iterations\n",
      "Done.\n",
      "No baseline correction applied\n",
      "Using a threshold of 1.943180\n",
      "stat_fun(H1): min=-8.703057 max=4.597263\n",
      "Running initial clustering\n",
      "Found 105 clusters\n",
      "Permuting 99 times...\n"
     ]
    },
    {
     "data": {
      "application/vnd.jupyter.widget-view+json": {
       "model_id": "2d8d14e7779e4968a1a2738d18bbd872",
       "version_major": 2,
       "version_minor": 0
      },
      "text/plain": [
       "HBox(children=(IntProgress(value=0, max=99), HTML(value='')))"
      ]
     },
     "metadata": {},
     "output_type": "display_data"
    },
    {
     "name": "stdout",
     "output_type": "stream",
     "text": [
      "\n",
      "Computing cluster p-values\n",
      "Step-down-in-jumps iteration #1 found 0 clusters to exclude from subsequent iterations\n",
      "Done.\n",
      "Using a threshold of -1.943180\n",
      "stat_fun(H1): min=-8.703057 max=4.597263\n",
      "Running initial clustering\n",
      "Found 21 clusters\n",
      "Permuting 99 times...\n"
     ]
    },
    {
     "data": {
      "application/vnd.jupyter.widget-view+json": {
       "model_id": "04981eb61a564687b4725ea5fb677e56",
       "version_major": 2,
       "version_minor": 0
      },
      "text/plain": [
       "HBox(children=(IntProgress(value=0, max=99), HTML(value='')))"
      ]
     },
     "metadata": {},
     "output_type": "display_data"
    },
    {
     "name": "stdout",
     "output_type": "stream",
     "text": [
      "\n",
      "Computing cluster p-values\n",
      "Step-down-in-jumps iteration #1 found 0 clusters to exclude from subsequent iterations\n",
      "Done.\n",
      "No baseline correction applied\n",
      "Using a threshold of 1.943180\n",
      "stat_fun(H1): min=-6.191915 max=4.813731\n",
      "Running initial clustering\n",
      "Found 94 clusters\n",
      "Permuting 99 times...\n"
     ]
    },
    {
     "data": {
      "application/vnd.jupyter.widget-view+json": {
       "model_id": "466d3a5172134817990f46f2e02aa598",
       "version_major": 2,
       "version_minor": 0
      },
      "text/plain": [
       "HBox(children=(IntProgress(value=0, max=99), HTML(value='')))"
      ]
     },
     "metadata": {},
     "output_type": "display_data"
    },
    {
     "name": "stdout",
     "output_type": "stream",
     "text": [
      "\n",
      "Computing cluster p-values\n",
      "Step-down-in-jumps iteration #1 found 0 clusters to exclude from subsequent iterations\n",
      "Done.\n",
      "Using a threshold of -1.943180\n",
      "stat_fun(H1): min=-6.191915 max=4.813731\n",
      "Running initial clustering\n",
      "Found 19 clusters\n",
      "Permuting 99 times...\n"
     ]
    },
    {
     "data": {
      "application/vnd.jupyter.widget-view+json": {
       "model_id": "d68f84668bbe4bf48d3646e465985450",
       "version_major": 2,
       "version_minor": 0
      },
      "text/plain": [
       "HBox(children=(IntProgress(value=0, max=99), HTML(value='')))"
      ]
     },
     "metadata": {},
     "output_type": "display_data"
    },
    {
     "name": "stdout",
     "output_type": "stream",
     "text": [
      "\n",
      "Computing cluster p-values\n",
      "Step-down-in-jumps iteration #1 found 0 clusters to exclude from subsequent iterations\n",
      "Done.\n",
      "No baseline correction applied\n",
      "Using a threshold of 1.943180\n",
      "stat_fun(H1): min=-5.532341 max=6.416746\n",
      "Running initial clustering\n",
      "Found 63 clusters\n",
      "Permuting 99 times...\n"
     ]
    },
    {
     "data": {
      "application/vnd.jupyter.widget-view+json": {
       "model_id": "949a7908f1fb4f4fb3d8327134f40609",
       "version_major": 2,
       "version_minor": 0
      },
      "text/plain": [
       "HBox(children=(IntProgress(value=0, max=99), HTML(value='')))"
      ]
     },
     "metadata": {},
     "output_type": "display_data"
    },
    {
     "name": "stdout",
     "output_type": "stream",
     "text": [
      "\n",
      "Computing cluster p-values\n",
      "Step-down-in-jumps iteration #1 found 0 clusters to exclude from subsequent iterations\n",
      "Done.\n",
      "Using a threshold of -1.943180\n",
      "stat_fun(H1): min=-5.532341 max=6.416746\n",
      "Running initial clustering\n",
      "Found 20 clusters\n",
      "Permuting 99 times...\n"
     ]
    },
    {
     "data": {
      "application/vnd.jupyter.widget-view+json": {
       "model_id": "a0a36394ff8b45c6a90c54c6e7d3f08e",
       "version_major": 2,
       "version_minor": 0
      },
      "text/plain": [
       "HBox(children=(IntProgress(value=0, max=99), HTML(value='')))"
      ]
     },
     "metadata": {},
     "output_type": "display_data"
    },
    {
     "name": "stdout",
     "output_type": "stream",
     "text": [
      "\n",
      "Computing cluster p-values\n",
      "Step-down-in-jumps iteration #1 found 0 clusters to exclude from subsequent iterations\n",
      "Done.\n",
      "No baseline correction applied\n",
      "Using a threshold of 1.943180\n",
      "stat_fun(H1): min=-5.544061 max=4.843052\n",
      "Running initial clustering\n",
      "Found 76 clusters\n",
      "Permuting 99 times...\n"
     ]
    },
    {
     "data": {
      "application/vnd.jupyter.widget-view+json": {
       "model_id": "eaf73bf4c15848cbad9299ea78b9907d",
       "version_major": 2,
       "version_minor": 0
      },
      "text/plain": [
       "HBox(children=(IntProgress(value=0, max=99), HTML(value='')))"
      ]
     },
     "metadata": {},
     "output_type": "display_data"
    },
    {
     "name": "stdout",
     "output_type": "stream",
     "text": [
      "\n",
      "Computing cluster p-values\n",
      "Step-down-in-jumps iteration #1 found 0 clusters to exclude from subsequent iterations\n",
      "Done.\n",
      "Using a threshold of -1.943180\n",
      "stat_fun(H1): min=-5.544061 max=4.843052\n",
      "Running initial clustering\n",
      "Found 21 clusters\n",
      "Permuting 99 times...\n"
     ]
    },
    {
     "data": {
      "application/vnd.jupyter.widget-view+json": {
       "model_id": "dff1ccb5469b43f19b7219f2c2f3f48e",
       "version_major": 2,
       "version_minor": 0
      },
      "text/plain": [
       "HBox(children=(IntProgress(value=0, max=99), HTML(value='')))"
      ]
     },
     "metadata": {},
     "output_type": "display_data"
    },
    {
     "name": "stdout",
     "output_type": "stream",
     "text": [
      "\n",
      "Computing cluster p-values\n",
      "Step-down-in-jumps iteration #1 found 0 clusters to exclude from subsequent iterations\n",
      "Done.\n",
      "No baseline correction applied\n"
     ]
    }
   ],
   "source": [
    "\n",
    "raw.info['bads'] += [ 'A1']\n",
    "picks = mne.pick_types(raw.info, eeg=True, stim=False,exclude='bads')\n",
    "picks = mne.pick_channels(raw.info[\"ch_names\"], ['F4', 'F8','C4', 'T4',])\n",
    "tmin, tmax = -3, 8  # define epochs around events (in s)\n",
    "event_ids = {'ready': 1, 'MI': 2, 'postrest': 3}  # map event IDs to tasks\n",
    "reject= dict(  eeg=150e-6  )     # 150 µV\n",
    "epochs = mne.Epochs(raw, events, event_ids, tmin - 0.5, tmax + 0.5,\n",
    "                    picks=picks,baseline=None, preload=True)\n",
    "\n",
    "\n",
    "# ica = mne.preprocessing.ICA(n_components=12, random_state=97, max_iter=800)\n",
    "# ica.fit(epochs)\n",
    "# ica.plot_sources(epochs, show_scrollbars=True);\n",
    "# ica.plot_components(title='compnents',cmap='jet')\n",
    "\n",
    "\n",
    "\n",
    "freqs = np.arange(8, 24, 1)  # frequencies from 2-35Hz\n",
    "n_cycles = freqs  # use constant t/f resolution\n",
    "vmin, vmax = -1, 1.5  # set min and max ERDS values in plot\n",
    "baseline = [-3, 0]  # baseline interval (in s)\n",
    "cmap = center_cmap(plt.cm.RdBu, vmin, vmax)  # zero maps to white\n",
    "kwargs = dict(n_permutations=100, step_down_p=0.05, seed=1,\n",
    "              buffer_size=None, out_type='mask')  # for cluster test\n",
    "\n",
    "# Run TF decomposition overall epochs\n",
    "tfr = tfr_multitaper(epochs, freqs=freqs, n_cycles=n_cycles,\n",
    "                     use_fft=True, return_itc=False, average=False,\n",
    "                     decim=2)\n",
    "tfr.crop(tmin, tmax)\n",
    "tfr.apply_baseline(baseline, mode=\"percent\")\n",
    "for event in event_ids:\n",
    "    # select desired epochs for visualization\n",
    "    tfr_ev = tfr[event]\n",
    "    fig, axes = plt.subplots(1,5,figsize=(12, 4), gridspec_kw={\"width_ratios\": [10, 10, 10,10 ,1]})\n",
    "      \n",
    "    for ch, ax in enumerate(axes[:-1]):  # for each channel\n",
    "        # positive clusters\n",
    "        _, c1, p1, _ = pcluster_test(tfr_ev.data[:, ch, ...], tail=1, **kwargs)\n",
    "        # negative clusters\n",
    "        _, c2, p2, _ = pcluster_test(tfr_ev.data[:, ch, ...], tail=-1,\n",
    "                                     **kwargs)\n",
    "\n",
    "        # note that we keep clusters with p <= 0.05 from the combined clusters\n",
    "        # of two independent tests; in this example, we do not correct for\n",
    "        # these two comparisons\n",
    "        c = np.stack(c1 + c2, axis=2)  # combined clusters\n",
    "        p = np.concatenate((p1, p2))  # combined p-values\n",
    "        mask = c[..., p <= 0.05].any(axis=-1)\n",
    "\n",
    "        # plot TFR (ERDS map with masking)\n",
    "        tfr_ev.average().plot([ch], vmin=vmin, vmax=vmax, cmap=(cmap, False),\n",
    "                              axes=ax, colorbar=False, show=False, mask=mask,\n",
    "                              mask_style=\"mask\")\n",
    "\n",
    "        ax.set_title(epochs.ch_names[ch], fontsize=10)\n",
    "        ax.axvline(0, linewidth=1, color=\"black\", linestyle=\":\")  # event\n",
    "        if ch != 0:\n",
    "            ax.set_ylabel(\"\")\n",
    "            ax.set_yticklabels(\"\")\n",
    "    fig.colorbar(axes[0].images[-1], cax=axes[-1])\n",
    "    fig.suptitle(\"ERDS ({})\".format(event))\n",
    "    fig.show()"
   ]
  },
  {
   "cell_type": "code",
   "execution_count": null,
   "metadata": {},
   "outputs": [],
   "source": []
  },
  {
   "cell_type": "code",
   "execution_count": null,
   "metadata": {},
   "outputs": [],
   "source": []
  }
 ],
 "metadata": {
  "kernelspec": {
   "display_name": "Python 3",
   "language": "python",
   "name": "python3"
  },
  "language_info": {
   "codemirror_mode": {
    "name": "ipython",
    "version": 3
   },
   "file_extension": ".py",
   "mimetype": "text/x-python",
   "name": "python",
   "nbconvert_exporter": "python",
   "pygments_lexer": "ipython3",
   "version": "3.7.4"
  }
 },
 "nbformat": 4,
 "nbformat_minor": 2
}
